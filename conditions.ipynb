{
 "cells": [
  {
   "attachments": {},
   "cell_type": "markdown",
   "metadata": {},
   "source": [
    "if statement"
   ]
  },
  {
   "cell_type": "code",
   "execution_count": 1,
   "metadata": {},
   "outputs": [
    {
     "name": "stdout",
     "output_type": "stream",
     "text": [
      "b is greater than a\n",
      "c is greater than a\n",
      "c is greater than b\n"
     ]
    }
   ],
   "source": [
    "a=5\n",
    "b=10\n",
    "c=20\n",
    "if a>b:\n",
    "        print(\"a is greater than c\")\n",
    "if a>c:\n",
    "        print(\"a is greater than c\")\n",
    "if b>a:\n",
    "        print(\"b is greater than a\")\n",
    "if b>c:\n",
    "        print(\"b is greater than c\")\n",
    "if c>a:\n",
    "        print(\"c is greater than a\")\n",
    "if c>b:\n",
    "        print(\"c is greater than b\")\n",
    "                              \n",
    "                            \n",
    "            \n",
    "        \n"
   ]
  },
  {
   "attachments": {},
   "cell_type": "markdown",
   "metadata": {},
   "source": [
    "ELIF"
   ]
  },
  {
   "cell_type": "code",
   "execution_count": 2,
   "metadata": {},
   "outputs": [
    {
     "name": "stdout",
     "output_type": "stream",
     "text": [
      "b is greater than a\n"
     ]
    }
   ],
   "source": [
    "a=4\n",
    "b=8\n",
    "c=8\n",
    "if a>b:\n",
    "        print(\"a is greater than b\")\n",
    "elif a>c:\n",
    "        print(\"a is greater than c\")\n",
    "elif b>a:\n",
    "        print(\"b is greater than a\")\n",
    "elif b>c:\n",
    "        print(\"b is greater than c\")\n",
    "elif c>a:\n",
    "        print(\"c is greater than a\")\n",
    "elif c>b:\n",
    "        print(\"c is greater than b\")\n",
    "else:\n",
    "        print(\"comparision is out of range😒😒\")"
   ]
  },
  {
   "attachments": {},
   "cell_type": "markdown",
   "metadata": {},
   "source": [
    "IF ELSE"
   ]
  },
  {
   "cell_type": "code",
   "execution_count": 4,
   "metadata": {},
   "outputs": [
    {
     "name": "stdout",
     "output_type": "stream",
     "text": [
      "a is greater than b\n"
     ]
    }
   ],
   "source": [
    "a=10\n",
    "b=5\n",
    "if a>b:\n",
    "    print(\"a is greater than b\")\n",
    "else:\n",
    "    print(\"a is less than b\")"
   ]
  },
  {
   "cell_type": "code",
   "execution_count": 4,
   "metadata": {},
   "outputs": [
    {
     "name": "stdout",
     "output_type": "stream",
     "text": [
      "i am taller (❁´◡`❁)\n"
     ]
    }
   ],
   "source": [
    "a=10\n",
    "b=15\n",
    "if a>b:\n",
    "    print(\"you are not taller than a giraffeimage.png\")\n",
    "else:\n",
    "    print(\"i am taller (❁´◡`❁)\")"
   ]
  },
  {
   "attachments": {},
   "cell_type": "markdown",
   "metadata": {},
   "source": [
    "nested if"
   ]
  },
  {
   "cell_type": "code",
   "execution_count": 1,
   "metadata": {},
   "outputs": [
    {
     "name": "stdout",
     "output_type": "stream",
     "text": [
      "hurray😊\n"
     ]
    }
   ],
   "source": [
    "username=input(\"enter you name:\")\n",
    "email=input(\"enter your email:\")\n",
    "password=input(\"enter your password\")\n",
    "password2=input(\"confirm your password:\")\n",
    "if len(username)>=4 and len(username)<=15:\n",
    "    if\"@\"in email and email.islower() and len(email)>10:\n",
    "        if len(password)>=6 and password!=username:\n",
    "            if password==password2:\n",
    "                print(\"hurray😊\")\n",
    "            else:\n",
    "                print(\"password do not match😒\")\n",
    "        else:\n",
    "            print(\"password is invalid\")\n",
    "    else:\n",
    "        print(\"email is invalid 👌\")\n",
    "else:\n",
    "    print(\"username is invalid\")"
   ]
  },
  {
   "cell_type": "code",
   "execution_count": null,
   "metadata": {},
   "outputs": [],
   "source": []
  }
 ],
 "metadata": {
  "kernelspec": {
   "display_name": "Python 3",
   "language": "python",
   "name": "python3"
  },
  "language_info": {
   "codemirror_mode": {
    "name": "ipython",
    "version": 3
   },
   "file_extension": ".py",
   "mimetype": "text/x-python",
   "name": "python",
   "nbconvert_exporter": "python",
   "pygments_lexer": "ipython3",
   "version": "3.11.3"
  },
  "orig_nbformat": 4
 },
 "nbformat": 4,
 "nbformat_minor": 2
}
