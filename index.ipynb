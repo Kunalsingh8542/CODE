{
 "cells": [
  {
   "cell_type": "code",
   "execution_count": 1,
   "metadata": {},
   "outputs": [
    {
     "name": "stdout",
     "output_type": "stream",
     "text": [
      "peach\n",
      "blueberry\n",
      "10\n",
      "['orange', 'mango', 'grapes', 'blueberry', 'kiwi', 'pear']\n",
      "['blueberry', 'kiwi', 'pear', 'peach', 'pomogranaate']\n",
      "apple\n",
      "banana\n",
      "orange\n",
      "mango\n",
      "grapes\n",
      "blueberry\n",
      "kiwi\n",
      "pear\n",
      "peach\n",
      "pomogranaate\n"
     ]
    }
   ],
   "source": [
    "a=[\"apple\",\"banana\",\"orange\",\"mango\",\"grapes\",\"blueberry\",\"kiwi\",\"pear\",\"peach\",\"pomogranaate\"]\n",
    "print(a[8])\n",
    "print(a[-5])\n",
    "print(len(a))\n",
    "print(a[2:8])\n",
    "print(a[-5:])\n",
    "for i in a:print(i)"
   ]
  },
  {
   "cell_type": "code",
   "execution_count": null,
   "metadata": {},
   "outputs": [],
   "source": []
  }
 ],
 "metadata": {
  "kernelspec": {
   "display_name": "Python 3",
   "language": "python",
   "name": "python3"
  },
  "language_info": {
   "codemirror_mode": {
    "name": "ipython",
    "version": 3
   },
   "file_extension": ".py",
   "mimetype": "text/x-python",
   "name": "python",
   "nbconvert_exporter": "python",
   "pygments_lexer": "ipython3",
   "version": "3.11.3"
  },
  "orig_nbformat": 4
 },
 "nbformat": 4,
 "nbformat_minor": 2
}
